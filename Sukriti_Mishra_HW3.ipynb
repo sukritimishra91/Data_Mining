{
 "cells": [
  {
   "cell_type": "markdown",
   "metadata": {},
   "source": [
    "1. Find P(K=0), P(K=1), P(a=1|K=0), P(b=1|K=0), P(c=1|K=0), P(a=1|K=1), P(b=1|K=1), P(c=1|K=1)."
   ]
  },
  {
   "cell_type": "code",
   "execution_count": 70,
   "metadata": {},
   "outputs": [
    {
     "name": "stdout",
     "output_type": "stream",
     "text": [
      "The probability of P(K=0) is 0.5\n"
     ]
    }
   ],
   "source": [
    "import math\n",
    "K_0 = 4\n",
    "K = 8\n",
    "P_0 = K_0/K\n",
    "print('The probability of P(K=0) is', P_0)\n",
    "\n"
   ]
  },
  {
   "cell_type": "code",
   "execution_count": 71,
   "metadata": {},
   "outputs": [
    {
     "name": "stdout",
     "output_type": "stream",
     "text": [
      "The probability of P(K=1) is 0.5\n"
     ]
    }
   ],
   "source": [
    "K_1 = 4\n",
    "P_1 = K_1/K\n",
    "print('The probability of P(K=1) is', P_1)"
   ]
  },
  {
   "cell_type": "markdown",
   "metadata": {},
   "source": [
    "1. From the definition, the conditional probability P(B|A) is easily obtained by dividing by P(A):\n",
    "   ####  P(B|A) = P(A and B)/ P(A)\n",
    "\n"
   ]
  },
  {
   "cell_type": "code",
   "execution_count": null,
   "metadata": {},
   "outputs": [],
   "source": [
    "P(a=1|K=0) = 2/4 = 1/2"
   ]
  },
  {
   "cell_type": "code",
   "execution_count": null,
   "metadata": {},
   "outputs": [],
   "source": [
    "P(b=1|K=0) = 2/4 = 1/2"
   ]
  },
  {
   "cell_type": "code",
   "execution_count": null,
   "metadata": {},
   "outputs": [],
   "source": [
    "P(c=1|K=0) = 3/4 "
   ]
  },
  {
   "cell_type": "code",
   "execution_count": null,
   "metadata": {},
   "outputs": [],
   "source": [
    "P(a=1|K=1) = 2/4 = 1/2"
   ]
  },
  {
   "cell_type": "code",
   "execution_count": null,
   "metadata": {},
   "outputs": [],
   "source": [
    "P(b=1|K=1) = 1/4"
   ]
  },
  {
   "cell_type": "code",
   "execution_count": null,
   "metadata": {},
   "outputs": [],
   "source": [
    "P(c=1|K=1) = 2/4 = 1/2"
   ]
  },
  {
   "cell_type": "markdown",
   "metadata": {},
   "source": [
    "#### b.According to the naive Bayes classifier, what is P(K = 1|a = 1 and b = 1 and c = 0) "
   ]
  },
  {
   "cell_type": "code",
   "execution_count": null,
   "metadata": {},
   "outputs": [],
   "source": [
    "P(K = 1|a = 1 and b = 1 and c = 0) = P(K = 1 and a = 1 and b = 1 and c = 0)/P(a = 1 and b = 1 and c = 0)\n",
    "= P(K= 1)*P(a = 1|K = 1)*P(b = 1|K = 1)*P(c = 0|K = 1)/ P(a = 1 and b = 1 and c = 0 and K = 1) + P(a = 1 and b = 1 and c = 0 and K = 0)\n",
    "P(K=1) = 1/2\n",
    "P(a = 1|K = 1) = 1/2\n",
    "P(b = 1|K = 1) = 1/4\n",
    "P(c = 0|K = 1) = 1/2\n",
    "P(a = 1 and b = 1 and c = 0 and K = 1) = P(K=1)* P(P(a = 1|K = 1))* P(b = 1|K = 1) * P(c = 0|K = 1)\n",
    "P(a = 1 and b = 1 and c = 0 and K = 1) = (1/2 * 1/2 * 1/2 * 1/4) = 1/32\n",
    "\n",
    "P(a = 1 and b = 1 and c = 0 and K = 0) = P(K=0)* P(P(a = 1|K = 0))* P(b = 1|K = 0) * P(c = 0|K = 0)\n",
    "P(a = 1 and b = 1 and c = 0 and K = 0) = (1/2 * 1/2 * 1/2 * 1/4) = 1/32\n",
    "\n",
    "So, P(K = 1|a = 1 and b = 1 and c = 0) = (1/2 * 1/2 * 1/4 * 1/2) / (1/32 + 1/32) = (1/32)/ (2/32) = 1/2 = 0.5 Answer.\n"
   ]
  },
  {
   "cell_type": "markdown",
   "metadata": {},
   "source": [
    "### c.\tAccording to the naive Bayes classifier, what is P(K = 0|a = 1 and b = 1)"
   ]
  },
  {
   "cell_type": "code",
   "execution_count": null,
   "metadata": {},
   "outputs": [],
   "source": [
    "P(K = 0|a = 1 and b = 1) = P(K = 0 and a = 1 and b = 1)/P(a = 1 and b = 1)\n",
    "= P(K= 0) * P(a = 1|K = 0)* P(b = 1|K = 0)/P(a = 1 and b = 1 and K = 1) + P(a = 1 and b = 1 and K = 0)\n",
    "P(K= 0) = 1/2\n",
    "P(a = 1|K = 0)= 1/2\n",
    "P(b = 1|K = 0) = 1/2\n",
    "P(a = 1 and b = 1 and K = 1) = P(K=1)* P(P(a = 1|K = 1))* P(b = 1|K = 1)\n",
    "P(a = 1 and b = 1 and K = 1) = 1/2 * 1/2 * 1/4 = 1/16\n",
    "\n",
    "\n",
    "P(a = 1 and b = 1 and K = 0) = P(K=0)* P(P(a = 1|K = 0))* P(b = 1|K = 0)\n",
    "P(a = 1 and b = 1 and K = 0) = 1/2 * 1/2 * 1/2 = 1/8\n",
    "\n",
    "\n",
    "According to the naive Bayes classifier, P(K = 0|a = 1 and b = 1) = (1/2 * 1/2 * 1/2) / (1/16 * 1/8) = (1/8) / (3/16) = 2/3 = 0.6667 Answer."
   ]
  },
  {
   "cell_type": "markdown",
   "metadata": {},
   "source": [
    "### Practice:"
   ]
  },
  {
   "cell_type": "code",
   "execution_count": 2,
   "metadata": {},
   "outputs": [],
   "source": [
    "import pandas as pd\n",
    "import numpy as np\n",
    "import matplotlib.pyplot as plt\n",
    "import scikitplot as skplt\n",
    "from sklearn.preprocessing import StandardScaler\n",
    "from sklearn.preprocessing import LabelEncoder\n",
    "from sklearn.model_selection import train_test_split\n",
    "from sklearn.tree import DecisionTreeClassifier\n",
    "from sklearn.naive_bayes import MultinomialNB\n",
    "from sklearn.naive_bayes import BernoulliNB\n",
    "from sklearn.ensemble import RandomForestClassifier\n",
    "from sklearn.metrics import confusion_matrix, classification_report\n",
    "from sklearn.metrics import accuracy_score, recall_score, f1_score, precision_score, make_scorer\n",
    "from sklearn.metrics import roc_curve\n"
   ]
  },
  {
   "cell_type": "code",
   "execution_count": 49,
   "metadata": {},
   "outputs": [
    {
     "data": {
      "text/html": [
       "<div>\n",
       "<style scoped>\n",
       "    .dataframe tbody tr th:only-of-type {\n",
       "        vertical-align: middle;\n",
       "    }\n",
       "\n",
       "    .dataframe tbody tr th {\n",
       "        vertical-align: top;\n",
       "    }\n",
       "\n",
       "    .dataframe thead th {\n",
       "        text-align: right;\n",
       "    }\n",
       "</style>\n",
       "<table border=\"1\" class=\"dataframe\">\n",
       "  <thead>\n",
       "    <tr style=\"text-align: right;\">\n",
       "      <th></th>\n",
       "      <th>Unnamed: 0</th>\n",
       "      <th>CRS_DEP_TIME</th>\n",
       "      <th>CARRIER</th>\n",
       "      <th>DEP_TIME</th>\n",
       "      <th>DEST</th>\n",
       "      <th>DISTANCE</th>\n",
       "      <th>FL_DATE</th>\n",
       "      <th>FL_NUM</th>\n",
       "      <th>ORIGIN</th>\n",
       "      <th>Weather</th>\n",
       "      <th>DAY_WEEK</th>\n",
       "      <th>DAY_OF_MONTH</th>\n",
       "      <th>TAIL_NUM</th>\n",
       "      <th>FlightStatus</th>\n",
       "    </tr>\n",
       "  </thead>\n",
       "  <tbody>\n",
       "    <tr>\n",
       "      <th>0</th>\n",
       "      <td>0</td>\n",
       "      <td>15.0</td>\n",
       "      <td>OH</td>\n",
       "      <td>1455</td>\n",
       "      <td>JFK</td>\n",
       "      <td>184</td>\n",
       "      <td>01/01/2004</td>\n",
       "      <td>5935</td>\n",
       "      <td>BWI</td>\n",
       "      <td>0</td>\n",
       "      <td>THU</td>\n",
       "      <td>1</td>\n",
       "      <td>N940CA</td>\n",
       "      <td>0</td>\n",
       "    </tr>\n",
       "    <tr>\n",
       "      <th>1</th>\n",
       "      <td>1</td>\n",
       "      <td>16.0</td>\n",
       "      <td>DH</td>\n",
       "      <td>1640</td>\n",
       "      <td>JFK</td>\n",
       "      <td>213</td>\n",
       "      <td>01/01/2004</td>\n",
       "      <td>6155</td>\n",
       "      <td>DCA</td>\n",
       "      <td>0</td>\n",
       "      <td>THU</td>\n",
       "      <td>1</td>\n",
       "      <td>N405FJ</td>\n",
       "      <td>0</td>\n",
       "    </tr>\n",
       "    <tr>\n",
       "      <th>2</th>\n",
       "      <td>2</td>\n",
       "      <td>12.0</td>\n",
       "      <td>DH</td>\n",
       "      <td>1245</td>\n",
       "      <td>LGA</td>\n",
       "      <td>229</td>\n",
       "      <td>01/01/2004</td>\n",
       "      <td>7208</td>\n",
       "      <td>IAD</td>\n",
       "      <td>0</td>\n",
       "      <td>THU</td>\n",
       "      <td>1</td>\n",
       "      <td>N695BR</td>\n",
       "      <td>0</td>\n",
       "    </tr>\n",
       "    <tr>\n",
       "      <th>3</th>\n",
       "      <td>3</td>\n",
       "      <td>17.0</td>\n",
       "      <td>DH</td>\n",
       "      <td>1709</td>\n",
       "      <td>LGA</td>\n",
       "      <td>229</td>\n",
       "      <td>01/01/2004</td>\n",
       "      <td>7215</td>\n",
       "      <td>IAD</td>\n",
       "      <td>0</td>\n",
       "      <td>THU</td>\n",
       "      <td>1</td>\n",
       "      <td>N662BR</td>\n",
       "      <td>0</td>\n",
       "    </tr>\n",
       "    <tr>\n",
       "      <th>4</th>\n",
       "      <td>4</td>\n",
       "      <td>10.0</td>\n",
       "      <td>DH</td>\n",
       "      <td>1035</td>\n",
       "      <td>LGA</td>\n",
       "      <td>229</td>\n",
       "      <td>01/01/2004</td>\n",
       "      <td>7792</td>\n",
       "      <td>IAD</td>\n",
       "      <td>0</td>\n",
       "      <td>THU</td>\n",
       "      <td>1</td>\n",
       "      <td>N698BR</td>\n",
       "      <td>0</td>\n",
       "    </tr>\n",
       "  </tbody>\n",
       "</table>\n",
       "</div>"
      ],
      "text/plain": [
       "   Unnamed: 0  CRS_DEP_TIME CARRIER  DEP_TIME DEST  DISTANCE     FL_DATE  \\\n",
       "0           0          15.0      OH      1455  JFK       184  01/01/2004   \n",
       "1           1          16.0      DH      1640  JFK       213  01/01/2004   \n",
       "2           2          12.0      DH      1245  LGA       229  01/01/2004   \n",
       "3           3          17.0      DH      1709  LGA       229  01/01/2004   \n",
       "4           4          10.0      DH      1035  LGA       229  01/01/2004   \n",
       "\n",
       "   FL_NUM ORIGIN  Weather DAY_WEEK  DAY_OF_MONTH TAIL_NUM  FlightStatus  \n",
       "0    5935    BWI        0      THU             1   N940CA             0  \n",
       "1    6155    DCA        0      THU             1   N405FJ             0  \n",
       "2    7208    IAD        0      THU             1   N695BR             0  \n",
       "3    7215    IAD        0      THU             1   N662BR             0  \n",
       "4    7792    IAD        0      THU             1   N698BR             0  "
      ]
     },
     "execution_count": 49,
     "metadata": {},
     "output_type": "execute_result"
    }
   ],
   "source": [
    "df = pd.read_csv('FlightDelaysR.csv')   #loading csv file using pandas\n",
    "df.head(5)"
   ]
  },
  {
   "cell_type": "markdown",
   "metadata": {},
   "source": [
    "### 2.\tSplit data into input and output (outcome) (10 points)\n",
    "a.\tFor input features: 'DAY_WEEK', 'CRS_DEP_TIME', 'ORIGIN', 'DEST', 'CARRIER'\n",
    "b.\tFor outcome: ‘FlightStatus’\n"
   ]
  },
  {
   "cell_type": "code",
   "execution_count": 50,
   "metadata": {},
   "outputs": [
    {
     "data": {
      "text/html": [
       "<div>\n",
       "<style scoped>\n",
       "    .dataframe tbody tr th:only-of-type {\n",
       "        vertical-align: middle;\n",
       "    }\n",
       "\n",
       "    .dataframe tbody tr th {\n",
       "        vertical-align: top;\n",
       "    }\n",
       "\n",
       "    .dataframe thead th {\n",
       "        text-align: right;\n",
       "    }\n",
       "</style>\n",
       "<table border=\"1\" class=\"dataframe\">\n",
       "  <thead>\n",
       "    <tr style=\"text-align: right;\">\n",
       "      <th></th>\n",
       "      <th>DAY_WEEK</th>\n",
       "      <th>CRS_DEP_TIME</th>\n",
       "      <th>ORIGIN</th>\n",
       "      <th>DEST</th>\n",
       "      <th>CARRIER</th>\n",
       "    </tr>\n",
       "  </thead>\n",
       "  <tbody>\n",
       "    <tr>\n",
       "      <th>0</th>\n",
       "      <td>THU</td>\n",
       "      <td>15.0</td>\n",
       "      <td>BWI</td>\n",
       "      <td>JFK</td>\n",
       "      <td>OH</td>\n",
       "    </tr>\n",
       "    <tr>\n",
       "      <th>1</th>\n",
       "      <td>THU</td>\n",
       "      <td>16.0</td>\n",
       "      <td>DCA</td>\n",
       "      <td>JFK</td>\n",
       "      <td>DH</td>\n",
       "    </tr>\n",
       "    <tr>\n",
       "      <th>2</th>\n",
       "      <td>THU</td>\n",
       "      <td>12.0</td>\n",
       "      <td>IAD</td>\n",
       "      <td>LGA</td>\n",
       "      <td>DH</td>\n",
       "    </tr>\n",
       "    <tr>\n",
       "      <th>3</th>\n",
       "      <td>THU</td>\n",
       "      <td>17.0</td>\n",
       "      <td>IAD</td>\n",
       "      <td>LGA</td>\n",
       "      <td>DH</td>\n",
       "    </tr>\n",
       "    <tr>\n",
       "      <th>4</th>\n",
       "      <td>THU</td>\n",
       "      <td>10.0</td>\n",
       "      <td>IAD</td>\n",
       "      <td>LGA</td>\n",
       "      <td>DH</td>\n",
       "    </tr>\n",
       "    <tr>\n",
       "      <th>...</th>\n",
       "      <td>...</td>\n",
       "      <td>...</td>\n",
       "      <td>...</td>\n",
       "      <td>...</td>\n",
       "      <td>...</td>\n",
       "    </tr>\n",
       "    <tr>\n",
       "      <th>2196</th>\n",
       "      <td>SAT</td>\n",
       "      <td>6.0</td>\n",
       "      <td>DCA</td>\n",
       "      <td>EWR</td>\n",
       "      <td>RU</td>\n",
       "    </tr>\n",
       "    <tr>\n",
       "      <th>2197</th>\n",
       "      <td>SAT</td>\n",
       "      <td>17.0</td>\n",
       "      <td>IAD</td>\n",
       "      <td>EWR</td>\n",
       "      <td>RU</td>\n",
       "    </tr>\n",
       "    <tr>\n",
       "      <th>2198</th>\n",
       "      <td>SAT</td>\n",
       "      <td>16.0</td>\n",
       "      <td>DCA</td>\n",
       "      <td>EWR</td>\n",
       "      <td>RU</td>\n",
       "    </tr>\n",
       "    <tr>\n",
       "      <th>2199</th>\n",
       "      <td>SAT</td>\n",
       "      <td>14.0</td>\n",
       "      <td>DCA</td>\n",
       "      <td>EWR</td>\n",
       "      <td>RU</td>\n",
       "    </tr>\n",
       "    <tr>\n",
       "      <th>2200</th>\n",
       "      <td>SAT</td>\n",
       "      <td>17.0</td>\n",
       "      <td>DCA</td>\n",
       "      <td>EWR</td>\n",
       "      <td>RU</td>\n",
       "    </tr>\n",
       "  </tbody>\n",
       "</table>\n",
       "<p>2201 rows × 5 columns</p>\n",
       "</div>"
      ],
      "text/plain": [
       "     DAY_WEEK  CRS_DEP_TIME ORIGIN DEST CARRIER\n",
       "0         THU          15.0    BWI  JFK      OH\n",
       "1         THU          16.0    DCA  JFK      DH\n",
       "2         THU          12.0    IAD  LGA      DH\n",
       "3         THU          17.0    IAD  LGA      DH\n",
       "4         THU          10.0    IAD  LGA      DH\n",
       "...       ...           ...    ...  ...     ...\n",
       "2196      SAT           6.0    DCA  EWR      RU\n",
       "2197      SAT          17.0    IAD  EWR      RU\n",
       "2198      SAT          16.0    DCA  EWR      RU\n",
       "2199      SAT          14.0    DCA  EWR      RU\n",
       "2200      SAT          17.0    DCA  EWR      RU\n",
       "\n",
       "[2201 rows x 5 columns]"
      ]
     },
     "execution_count": 50,
     "metadata": {},
     "output_type": "execute_result"
    }
   ],
   "source": [
    "input_data = pd.DataFrame(df, columns=['DAY_WEEK', 'CRS_DEP_TIME', 'ORIGIN', 'DEST', 'CARRIER'])\n",
    "input_data"
   ]
  },
  {
   "cell_type": "code",
   "execution_count": 51,
   "metadata": {},
   "outputs": [
    {
     "data": {
      "text/html": [
       "<div>\n",
       "<style scoped>\n",
       "    .dataframe tbody tr th:only-of-type {\n",
       "        vertical-align: middle;\n",
       "    }\n",
       "\n",
       "    .dataframe tbody tr th {\n",
       "        vertical-align: top;\n",
       "    }\n",
       "\n",
       "    .dataframe thead th {\n",
       "        text-align: right;\n",
       "    }\n",
       "</style>\n",
       "<table border=\"1\" class=\"dataframe\">\n",
       "  <thead>\n",
       "    <tr style=\"text-align: right;\">\n",
       "      <th></th>\n",
       "      <th>FlightStatus</th>\n",
       "    </tr>\n",
       "  </thead>\n",
       "  <tbody>\n",
       "    <tr>\n",
       "      <th>0</th>\n",
       "      <td>0</td>\n",
       "    </tr>\n",
       "    <tr>\n",
       "      <th>1</th>\n",
       "      <td>0</td>\n",
       "    </tr>\n",
       "    <tr>\n",
       "      <th>2</th>\n",
       "      <td>0</td>\n",
       "    </tr>\n",
       "    <tr>\n",
       "      <th>3</th>\n",
       "      <td>0</td>\n",
       "    </tr>\n",
       "    <tr>\n",
       "      <th>4</th>\n",
       "      <td>0</td>\n",
       "    </tr>\n",
       "    <tr>\n",
       "      <th>...</th>\n",
       "      <td>...</td>\n",
       "    </tr>\n",
       "    <tr>\n",
       "      <th>2196</th>\n",
       "      <td>0</td>\n",
       "    </tr>\n",
       "    <tr>\n",
       "      <th>2197</th>\n",
       "      <td>0</td>\n",
       "    </tr>\n",
       "    <tr>\n",
       "      <th>2198</th>\n",
       "      <td>0</td>\n",
       "    </tr>\n",
       "    <tr>\n",
       "      <th>2199</th>\n",
       "      <td>0</td>\n",
       "    </tr>\n",
       "    <tr>\n",
       "      <th>2200</th>\n",
       "      <td>0</td>\n",
       "    </tr>\n",
       "  </tbody>\n",
       "</table>\n",
       "<p>2201 rows × 1 columns</p>\n",
       "</div>"
      ],
      "text/plain": [
       "      FlightStatus\n",
       "0                0\n",
       "1                0\n",
       "2                0\n",
       "3                0\n",
       "4                0\n",
       "...            ...\n",
       "2196             0\n",
       "2197             0\n",
       "2198             0\n",
       "2199             0\n",
       "2200             0\n",
       "\n",
       "[2201 rows x 1 columns]"
      ]
     },
     "execution_count": 51,
     "metadata": {},
     "output_type": "execute_result"
    }
   ],
   "source": [
    "output_data = pd.DataFrame( df, columns = ['FlightStatus'])\n",
    "output_data"
   ]
  },
  {
   "cell_type": "code",
   "execution_count": 52,
   "metadata": {},
   "outputs": [
    {
     "data": {
      "text/html": [
       "<div>\n",
       "<style scoped>\n",
       "    .dataframe tbody tr th:only-of-type {\n",
       "        vertical-align: middle;\n",
       "    }\n",
       "\n",
       "    .dataframe tbody tr th {\n",
       "        vertical-align: top;\n",
       "    }\n",
       "\n",
       "    .dataframe thead th {\n",
       "        text-align: right;\n",
       "    }\n",
       "</style>\n",
       "<table border=\"1\" class=\"dataframe\">\n",
       "  <thead>\n",
       "    <tr style=\"text-align: right;\">\n",
       "      <th></th>\n",
       "      <th>DAY_WEEK_MON</th>\n",
       "      <th>DAY_WEEK_SAT</th>\n",
       "      <th>DAY_WEEK_SUN</th>\n",
       "      <th>DAY_WEEK_THU</th>\n",
       "      <th>DAY_WEEK_TUE</th>\n",
       "      <th>DAY_WEEK_WEN</th>\n",
       "      <th>CRS_DEP_TIME_7.0</th>\n",
       "      <th>CRS_DEP_TIME_8.0</th>\n",
       "      <th>CRS_DEP_TIME_9.0</th>\n",
       "      <th>CRS_DEP_TIME_10.0</th>\n",
       "      <th>...</th>\n",
       "      <th>ORIGIN_IAD</th>\n",
       "      <th>DEST_JFK</th>\n",
       "      <th>DEST_LGA</th>\n",
       "      <th>CARRIER_DH</th>\n",
       "      <th>CARRIER_DL</th>\n",
       "      <th>CARRIER_MQ</th>\n",
       "      <th>CARRIER_OH</th>\n",
       "      <th>CARRIER_RU</th>\n",
       "      <th>CARRIER_UA</th>\n",
       "      <th>CARRIER_US</th>\n",
       "    </tr>\n",
       "  </thead>\n",
       "  <tbody>\n",
       "    <tr>\n",
       "      <th>0</th>\n",
       "      <td>0</td>\n",
       "      <td>0</td>\n",
       "      <td>0</td>\n",
       "      <td>1</td>\n",
       "      <td>0</td>\n",
       "      <td>0</td>\n",
       "      <td>0</td>\n",
       "      <td>0</td>\n",
       "      <td>0</td>\n",
       "      <td>0</td>\n",
       "      <td>...</td>\n",
       "      <td>0</td>\n",
       "      <td>1</td>\n",
       "      <td>0</td>\n",
       "      <td>0</td>\n",
       "      <td>0</td>\n",
       "      <td>0</td>\n",
       "      <td>1</td>\n",
       "      <td>0</td>\n",
       "      <td>0</td>\n",
       "      <td>0</td>\n",
       "    </tr>\n",
       "    <tr>\n",
       "      <th>1</th>\n",
       "      <td>0</td>\n",
       "      <td>0</td>\n",
       "      <td>0</td>\n",
       "      <td>1</td>\n",
       "      <td>0</td>\n",
       "      <td>0</td>\n",
       "      <td>0</td>\n",
       "      <td>0</td>\n",
       "      <td>0</td>\n",
       "      <td>0</td>\n",
       "      <td>...</td>\n",
       "      <td>0</td>\n",
       "      <td>1</td>\n",
       "      <td>0</td>\n",
       "      <td>1</td>\n",
       "      <td>0</td>\n",
       "      <td>0</td>\n",
       "      <td>0</td>\n",
       "      <td>0</td>\n",
       "      <td>0</td>\n",
       "      <td>0</td>\n",
       "    </tr>\n",
       "    <tr>\n",
       "      <th>2</th>\n",
       "      <td>0</td>\n",
       "      <td>0</td>\n",
       "      <td>0</td>\n",
       "      <td>1</td>\n",
       "      <td>0</td>\n",
       "      <td>0</td>\n",
       "      <td>0</td>\n",
       "      <td>0</td>\n",
       "      <td>0</td>\n",
       "      <td>0</td>\n",
       "      <td>...</td>\n",
       "      <td>1</td>\n",
       "      <td>0</td>\n",
       "      <td>1</td>\n",
       "      <td>1</td>\n",
       "      <td>0</td>\n",
       "      <td>0</td>\n",
       "      <td>0</td>\n",
       "      <td>0</td>\n",
       "      <td>0</td>\n",
       "      <td>0</td>\n",
       "    </tr>\n",
       "    <tr>\n",
       "      <th>3</th>\n",
       "      <td>0</td>\n",
       "      <td>0</td>\n",
       "      <td>0</td>\n",
       "      <td>1</td>\n",
       "      <td>0</td>\n",
       "      <td>0</td>\n",
       "      <td>0</td>\n",
       "      <td>0</td>\n",
       "      <td>0</td>\n",
       "      <td>0</td>\n",
       "      <td>...</td>\n",
       "      <td>1</td>\n",
       "      <td>0</td>\n",
       "      <td>1</td>\n",
       "      <td>1</td>\n",
       "      <td>0</td>\n",
       "      <td>0</td>\n",
       "      <td>0</td>\n",
       "      <td>0</td>\n",
       "      <td>0</td>\n",
       "      <td>0</td>\n",
       "    </tr>\n",
       "    <tr>\n",
       "      <th>4</th>\n",
       "      <td>0</td>\n",
       "      <td>0</td>\n",
       "      <td>0</td>\n",
       "      <td>1</td>\n",
       "      <td>0</td>\n",
       "      <td>0</td>\n",
       "      <td>0</td>\n",
       "      <td>0</td>\n",
       "      <td>0</td>\n",
       "      <td>1</td>\n",
       "      <td>...</td>\n",
       "      <td>1</td>\n",
       "      <td>0</td>\n",
       "      <td>1</td>\n",
       "      <td>1</td>\n",
       "      <td>0</td>\n",
       "      <td>0</td>\n",
       "      <td>0</td>\n",
       "      <td>0</td>\n",
       "      <td>0</td>\n",
       "      <td>0</td>\n",
       "    </tr>\n",
       "  </tbody>\n",
       "</table>\n",
       "<p>5 rows × 32 columns</p>\n",
       "</div>"
      ],
      "text/plain": [
       "   DAY_WEEK_MON  DAY_WEEK_SAT  DAY_WEEK_SUN  DAY_WEEK_THU  DAY_WEEK_TUE  \\\n",
       "0             0             0             0             1             0   \n",
       "1             0             0             0             1             0   \n",
       "2             0             0             0             1             0   \n",
       "3             0             0             0             1             0   \n",
       "4             0             0             0             1             0   \n",
       "\n",
       "   DAY_WEEK_WEN  CRS_DEP_TIME_7.0  CRS_DEP_TIME_8.0  CRS_DEP_TIME_9.0  \\\n",
       "0             0                 0                 0                 0   \n",
       "1             0                 0                 0                 0   \n",
       "2             0                 0                 0                 0   \n",
       "3             0                 0                 0                 0   \n",
       "4             0                 0                 0                 0   \n",
       "\n",
       "   CRS_DEP_TIME_10.0  ...  ORIGIN_IAD  DEST_JFK  DEST_LGA  CARRIER_DH  \\\n",
       "0                  0  ...           0         1         0           0   \n",
       "1                  0  ...           0         1         0           1   \n",
       "2                  0  ...           1         0         1           1   \n",
       "3                  0  ...           1         0         1           1   \n",
       "4                  1  ...           1         0         1           1   \n",
       "\n",
       "   CARRIER_DL  CARRIER_MQ  CARRIER_OH  CARRIER_RU  CARRIER_UA  CARRIER_US  \n",
       "0           0           0           1           0           0           0  \n",
       "1           0           0           0           0           0           0  \n",
       "2           0           0           0           0           0           0  \n",
       "3           0           0           0           0           0           0  \n",
       "4           0           0           0           0           0           0  \n",
       "\n",
       "[5 rows x 32 columns]"
      ]
     },
     "execution_count": 52,
     "metadata": {},
     "output_type": "execute_result"
    }
   ],
   "source": [
    "#3.\tMake dummy/indicator variables/features using pd.get_dummies\n",
    "X = pd.get_dummies(input_data, columns = ['DAY_WEEK', 'CRS_DEP_TIME', 'ORIGIN', 'DEST', 'CARRIER'], drop_first = True)\n",
    "X.head()\n"
   ]
  },
  {
   "cell_type": "markdown",
   "metadata": {},
   "source": [
    "### 4.Split data into training and test data set (use 30% for test). "
   ]
  },
  {
   "cell_type": "code",
   "execution_count": 53,
   "metadata": {},
   "outputs": [],
   "source": [
    "X_train, X_test, y_train, y_test = train_test_split(X, output_data, test_size = 0.3 , random_state = 1)  "
   ]
  },
  {
   "cell_type": "markdown",
   "metadata": {},
   "source": [
    "### 5.Use BernoullilNB in sckitlearn and do classification, use class_prior [0.5, 0.5], alpha=1"
   ]
  },
  {
   "cell_type": "code",
   "execution_count": 17,
   "metadata": {},
   "outputs": [],
   "source": [
    "bnb = BernoulliNB(alpha = 1.0, class_prior = [0.5, 0.5]) \n",
    "\n"
   ]
  },
  {
   "cell_type": "code",
   "execution_count": 18,
   "metadata": {},
   "outputs": [
    {
     "name": "stderr",
     "output_type": "stream",
     "text": [
      "/Users/sukritimishra/opt/anaconda3/envs/ml/lib/python3.7/site-packages/sklearn/utils/validation.py:760: DataConversionWarning: A column-vector y was passed when a 1d array was expected. Please change the shape of y to (n_samples, ), for example using ravel().\n",
      "  y = column_or_1d(y, warn=True)\n"
     ]
    },
    {
     "data": {
      "text/plain": [
       "BernoulliNB(alpha=1.0, binarize=0.0, class_prior=[0.5, 0.5], fit_prior=True)"
      ]
     },
     "execution_count": 18,
     "metadata": {},
     "output_type": "execute_result"
    }
   ],
   "source": [
    "bnb.fit(X_train, y_train)"
   ]
  },
  {
   "cell_type": "code",
   "execution_count": 21,
   "metadata": {},
   "outputs": [
    {
     "data": {
      "text/plain": [
       "array([1, 0, 1, 0, 0, 0, 1, 0, 0, 0, 0, 1, 0, 0, 1, 0, 1, 0, 0, 1, 1, 0,\n",
       "       1, 1, 1, 1, 0, 1, 1, 1, 1, 1, 1, 0, 1, 0, 1, 1, 0, 0, 1, 1, 0, 1,\n",
       "       0, 1, 0, 0, 0, 1, 1, 0, 1, 1, 1, 1, 0, 1, 1, 1, 0, 1, 0, 1, 1, 0,\n",
       "       0, 0, 1, 0, 0, 0, 0, 1, 1, 0, 0, 1, 1, 0, 0, 0, 1, 1, 1, 0, 1, 0,\n",
       "       0, 0, 0, 0, 1, 0, 0, 0, 1, 1, 1, 0, 1, 0, 1, 1, 0, 1, 1, 0, 0, 1,\n",
       "       1, 0, 1, 0, 0, 1, 0, 0, 0, 0, 0, 1, 0, 0, 0, 0, 1, 1, 0, 1, 1, 0,\n",
       "       1, 1, 0, 0, 0, 1, 1, 1, 0, 0, 1, 0, 0, 0, 1, 1, 0, 1, 1, 1, 1, 0,\n",
       "       0, 0, 1, 0, 1, 0, 0, 1, 0, 1, 1, 0, 0, 0, 1, 0, 1, 0, 0, 0, 0, 0,\n",
       "       0, 1, 1, 1, 1, 1, 0, 0, 1, 0, 0, 0, 0, 1, 1, 1, 0, 1, 0, 0, 1, 1,\n",
       "       1, 1, 1, 1, 1, 1, 0, 1, 1, 1, 0, 1, 1, 0, 1, 0, 0, 0, 1, 1, 0, 1,\n",
       "       0, 0, 1, 1, 1, 1, 0, 1, 0, 1, 0, 1, 1, 0, 0, 0, 0, 1, 0, 1, 0, 1,\n",
       "       1, 0, 1, 0, 0, 0, 1, 0, 1, 1, 0, 0, 0, 0, 1, 0, 0, 0, 1, 1, 0, 1,\n",
       "       1, 1, 1, 0, 0, 1, 0, 0, 1, 1, 0, 1, 1, 1, 0, 1, 1, 0, 0, 1, 1, 1,\n",
       "       0, 1, 1, 0, 1, 1, 1, 1, 1, 1, 1, 0, 0, 1, 1, 0, 0, 0, 0, 1, 1, 0,\n",
       "       1, 1, 0, 0, 0, 1, 1, 0, 0, 1, 0, 0, 0, 1, 1, 0, 1, 1, 1, 1, 1, 0,\n",
       "       0, 1, 1, 1, 1, 0, 0, 0, 1, 0, 0, 1, 0, 1, 1, 0, 0, 1, 0, 1, 1, 0,\n",
       "       0, 1, 1, 0, 0, 0, 1, 0, 0, 0, 0, 1, 0, 1, 1, 0, 0, 1, 1, 0, 1, 1,\n",
       "       1, 1, 1, 0, 0, 1, 0, 1, 0, 0, 1, 0, 0, 0, 1, 1, 1, 1, 0, 1, 0, 0,\n",
       "       1, 0, 0, 1, 1, 0, 1, 0, 0, 0, 0, 1, 0, 0, 1, 1, 0, 0, 1, 0, 0, 1,\n",
       "       0, 1, 1, 0, 0, 1, 0, 1, 0, 1, 0, 1, 1, 0, 0, 0, 0, 0, 0, 0, 1, 1,\n",
       "       1, 1, 1, 0, 0, 1, 1, 1, 1, 1, 1, 0, 0, 1, 0, 0, 1, 0, 0, 1, 0, 1,\n",
       "       1, 1, 0, 0, 0, 1, 1, 1, 1, 1, 0, 0, 1, 1, 0, 1, 1, 1, 0, 1, 1, 0,\n",
       "       1, 1, 0, 1, 1, 1, 1, 1, 0, 1, 0, 0, 0, 0, 0, 1, 1, 0, 0, 1, 1, 0,\n",
       "       0, 1, 0, 0, 0, 0, 0, 1, 1, 0, 0, 1, 0, 1, 0, 0, 0, 1, 0, 0, 1, 1,\n",
       "       1, 0, 0, 0, 0, 1, 1, 1, 0, 0, 0, 0, 0, 1, 1, 0, 1, 1, 0, 1, 0, 0,\n",
       "       1, 0, 1, 0, 1, 0, 0, 1, 1, 1, 1, 0, 0, 1, 1, 0, 1, 1, 1, 1, 1, 0,\n",
       "       0, 1, 0, 0, 1, 1, 0, 0, 1, 1, 1, 0, 0, 1, 1, 0, 0, 0, 0, 1, 1, 0,\n",
       "       1, 1, 1, 0, 1, 1, 1, 1, 1, 0, 1, 0, 0, 1, 0, 0, 1, 0, 0, 0, 1, 1,\n",
       "       0, 0, 1, 1, 0, 1, 0, 1, 1, 1, 1, 1, 0, 0, 1, 0, 0, 0, 0, 1, 0, 0,\n",
       "       1, 0, 0, 1, 1, 0, 1, 1, 0, 0, 1, 1, 0, 0, 1, 0, 0, 1, 1, 0, 1, 0,\n",
       "       1])"
      ]
     },
     "execution_count": 21,
     "metadata": {},
     "output_type": "execute_result"
    }
   ],
   "source": [
    "y_predicted = bnb.predict(X_test)\n",
    "y_predicted"
   ]
  },
  {
   "cell_type": "markdown",
   "metadata": {},
   "source": [
    "### 6.\tDraw confusion matrix. "
   ]
  },
  {
   "cell_type": "code",
   "execution_count": 22,
   "metadata": {},
   "outputs": [
    {
     "name": "stdout",
     "output_type": "stream",
     "text": [
      "              precision    recall  f1-score   support\n",
      "\n",
      "           0       0.87      0.53      0.66       537\n",
      "           1       0.25      0.66      0.36       124\n",
      "\n",
      "    accuracy                           0.56       661\n",
      "   macro avg       0.56      0.60      0.51       661\n",
      "weighted avg       0.75      0.56      0.60       661\n",
      "\n"
     ]
    }
   ],
   "source": [
    "conf_matrix = classification_report(y_test, y_predicted)\n",
    "print(conf_matrix)"
   ]
  },
  {
   "cell_type": "code",
   "execution_count": 24,
   "metadata": {},
   "outputs": [
    {
     "data": {
      "text/html": [
       "<div>\n",
       "<style scoped>\n",
       "    .dataframe tbody tr th:only-of-type {\n",
       "        vertical-align: middle;\n",
       "    }\n",
       "\n",
       "    .dataframe tbody tr th {\n",
       "        vertical-align: top;\n",
       "    }\n",
       "\n",
       "    .dataframe thead th {\n",
       "        text-align: right;\n",
       "    }\n",
       "</style>\n",
       "<table border=\"1\" class=\"dataframe\">\n",
       "  <thead>\n",
       "    <tr style=\"text-align: right;\">\n",
       "      <th></th>\n",
       "      <th>Predict[0]</th>\n",
       "      <th>Predict[1]</th>\n",
       "    </tr>\n",
       "  </thead>\n",
       "  <tbody>\n",
       "    <tr>\n",
       "      <th>True[0]</th>\n",
       "      <td>285</td>\n",
       "      <td>252</td>\n",
       "    </tr>\n",
       "    <tr>\n",
       "      <th>True[1]</th>\n",
       "      <td>42</td>\n",
       "      <td>82</td>\n",
       "    </tr>\n",
       "  </tbody>\n",
       "</table>\n",
       "</div>"
      ],
      "text/plain": [
       "         Predict[0]  Predict[1]\n",
       "True[0]         285         252\n",
       "True[1]          42          82"
      ]
     },
     "execution_count": 24,
     "metadata": {},
     "output_type": "execute_result"
    }
   ],
   "source": [
    "conf_matrix = pd.DataFrame(confusion_matrix(y_test, y_predicted), index =['True[0]', 'True[1]'], \n",
    "                           columns = ['Predict[0]', 'Predict[1]'])\n",
    "conf_matrix"
   ]
  },
  {
   "cell_type": "code",
   "execution_count": 29,
   "metadata": {},
   "outputs": [
    {
     "name": "stdout",
     "output_type": "stream",
     "text": [
      "The accuracy score when prior probabilites are [0.5, 0.5] is 55.52193645990923\n"
     ]
    }
   ],
   "source": [
    "print(\"The accuracy score when prior probabilites are [0.5, 0.5] is\", accuracy_score(y_test, y_predicted) * 100)"
   ]
  },
  {
   "cell_type": "markdown",
   "metadata": {},
   "source": [
    "### 7.\tDraw ROC curve and cumulative gain chart"
   ]
  },
  {
   "cell_type": "code",
   "execution_count": 30,
   "metadata": {},
   "outputs": [
    {
     "data": {
      "image/png": "[encoded data removed]",
      "text/plain": [
       "<Figure size 432x288 with 1 Axes>"
      ]
     },
     "metadata": {
      "needs_background": "light"
     },
     "output_type": "display_data"
    }
   ],
   "source": [
    "skplt.metrics.plot_roc(y_test, bnb.predict_proba(X_test), plot_micro = False)\n",
    "plt.show()"
   ]
  },
  {
   "cell_type": "code",
   "execution_count": 32,
   "metadata": {},
   "outputs": [
    {
     "data": {
      "image/png": "[encoded data removed]",
      "text/plain": [
       "<Figure size 432x288 with 1 Axes>"
      ]
     },
     "metadata": {
      "needs_background": "light"
     },
     "output_type": "display_data"
    }
   ],
   "source": [
    "skplt.metrics.plot_cumulative_gain(y_test, bnb.predict_proba(X_test))\n",
    "plt.show()"
   ]
  },
  {
   "cell_type": "markdown",
   "metadata": {},
   "source": [
    "### 8.\tChange a parameter (1) prior [0.9, 0.1]  "
   ]
  },
  {
   "cell_type": "code",
   "execution_count": 86,
   "metadata": {},
   "outputs": [
    {
     "name": "stderr",
     "output_type": "stream",
     "text": [
      "/Users/sukritimishra/opt/anaconda3/envs/ml/lib/python3.7/site-packages/sklearn/utils/validation.py:760: DataConversionWarning: A column-vector y was passed when a 1d array was expected. Please change the shape of y to (n_samples, ), for example using ravel().\n",
      "  y = column_or_1d(y, warn=True)\n"
     ]
    },
    {
     "data": {
      "text/plain": [
       "BernoulliNB(alpha=1.0, binarize=0.0, class_prior=[0.9, 0.1], fit_prior=True)"
      ]
     },
     "execution_count": 86,
     "metadata": {},
     "output_type": "execute_result"
    }
   ],
   "source": [
    "bnb_1 = BernoulliNB( alpha = 1.0, class_prior = [0.9, 0.1])\n",
    "bnb_1.fit(X_train, y_train)"
   ]
  },
  {
   "cell_type": "code",
   "execution_count": 87,
   "metadata": {},
   "outputs": [],
   "source": [
    "y_predicted_1 = bnb_1.predict(X_test)\n",
    "#y_predicted_1"
   ]
  },
  {
   "cell_type": "code",
   "execution_count": 88,
   "metadata": {},
   "outputs": [
    {
     "data": {
      "text/html": [
       "<div>\n",
       "<style scoped>\n",
       "    .dataframe tbody tr th:only-of-type {\n",
       "        vertical-align: middle;\n",
       "    }\n",
       "\n",
       "    .dataframe tbody tr th {\n",
       "        vertical-align: top;\n",
       "    }\n",
       "\n",
       "    .dataframe thead th {\n",
       "        text-align: right;\n",
       "    }\n",
       "</style>\n",
       "<table border=\"1\" class=\"dataframe\">\n",
       "  <thead>\n",
       "    <tr style=\"text-align: right;\">\n",
       "      <th></th>\n",
       "      <th>Predict[0]</th>\n",
       "      <th>Predict[1]</th>\n",
       "    </tr>\n",
       "  </thead>\n",
       "  <tbody>\n",
       "    <tr>\n",
       "      <th>True[0]</th>\n",
       "      <td>526</td>\n",
       "      <td>11</td>\n",
       "    </tr>\n",
       "    <tr>\n",
       "      <th>True[1]</th>\n",
       "      <td>120</td>\n",
       "      <td>4</td>\n",
       "    </tr>\n",
       "  </tbody>\n",
       "</table>\n",
       "</div>"
      ],
      "text/plain": [
       "         Predict[0]  Predict[1]\n",
       "True[0]         526          11\n",
       "True[1]         120           4"
      ]
     },
     "execution_count": 88,
     "metadata": {},
     "output_type": "execute_result"
    }
   ],
   "source": [
    "conf_matrix_1 = pd.DataFrame(confusion_matrix(y_test, y_predicted_1), index =['True[0]', 'True[1]'], \n",
    "                           columns = ['Predict[0]', 'Predict[1]'])\n",
    "conf_matrix_1"
   ]
  },
  {
   "cell_type": "code",
   "execution_count": 89,
   "metadata": {},
   "outputs": [
    {
     "name": "stdout",
     "output_type": "stream",
     "text": [
      "              precision    recall  f1-score   support\n",
      "\n",
      "           0       0.81      0.98      0.89       537\n",
      "           1       0.27      0.03      0.06       124\n",
      "\n",
      "    accuracy                           0.80       661\n",
      "   macro avg       0.54      0.51      0.47       661\n",
      "weighted avg       0.71      0.80      0.73       661\n",
      "\n"
     ]
    }
   ],
   "source": [
    "print(classification_report(y_test, y_predicted_1))\n"
   ]
  },
  {
   "cell_type": "code",
   "execution_count": 90,
   "metadata": {},
   "outputs": [
    {
     "name": "stdout",
     "output_type": "stream",
     "text": [
      "The accuracy score when prior probabilites are [0.9, 0.1] is 80.18154311649016\n"
     ]
    }
   ],
   "source": [
    "print(\"The accuracy score when prior probabilites are [0.9, 0.1] is\", accuracy_score(y_test, y_predicted_1) * 100)"
   ]
  },
  {
   "cell_type": "code",
   "execution_count": 91,
   "metadata": {},
   "outputs": [
    {
     "name": "stdout",
     "output_type": "stream",
     "text": [
      "The precision score when prior probabilites are [0.9, 0.1] is 26.666666666666668\n"
     ]
    }
   ],
   "source": [
    "print(\"The precision score when prior probabilites are [0.9, 0.1] is\", precision_score(y_test, y_predicted_1) * 100)"
   ]
  },
  {
   "cell_type": "code",
   "execution_count": 92,
   "metadata": {},
   "outputs": [
    {
     "name": "stdout",
     "output_type": "stream",
     "text": [
      "The f1 score when prior probabilites are [0.9, 0.1] is 5.755395683453237\n"
     ]
    }
   ],
   "source": [
    "print(\"The f1 score when prior probabilites are [0.9, 0.1] is\", f1_score(y_test, y_predicted_1) * 100)"
   ]
  },
  {
   "cell_type": "code",
   "execution_count": 59,
   "metadata": {},
   "outputs": [
    {
     "data": {
      "image/png": "[encoded data removed]",
      "text/plain": [
       "<Figure size 432x288 with 1 Axes>"
      ]
     },
     "metadata": {
      "needs_background": "light"
     },
     "output_type": "display_data"
    }
   ],
   "source": [
    "skplt.metrics.plot_roc(y_test, bnb_1.predict_proba(X_test), plot_micro = False)\n",
    "plt.show()"
   ]
  },
  {
   "cell_type": "code",
   "execution_count": 60,
   "metadata": {},
   "outputs": [
    {
     "data": {
      "image/png": "[encoded data removed]",
      "text/plain": [
       "<Figure size 432x288 with 1 Axes>"
      ]
     },
     "metadata": {
      "needs_background": "light"
     },
     "output_type": "display_data"
    }
   ],
   "source": [
    "skplt.metrics.plot_cumulative_gain(y_test, bnb_1.predict_proba(X_test))\n",
    "plt.show()"
   ]
  },
  {
   "cell_type": "markdown",
   "metadata": {},
   "source": [
    "### 8.\tChange a parameter (2) [0.1, 0.9]. Explain parameter dependency. (10 points)"
   ]
  },
  {
   "cell_type": "code",
   "execution_count": 78,
   "metadata": {},
   "outputs": [
    {
     "name": "stderr",
     "output_type": "stream",
     "text": [
      "/Users/sukritimishra/opt/anaconda3/envs/ml/lib/python3.7/site-packages/sklearn/utils/validation.py:760: DataConversionWarning: A column-vector y was passed when a 1d array was expected. Please change the shape of y to (n_samples, ), for example using ravel().\n",
      "  y = column_or_1d(y, warn=True)\n"
     ]
    },
    {
     "data": {
      "text/plain": [
       "BernoulliNB(alpha=1.0, binarize=0.0, class_prior=[0.1, 0.9], fit_prior=True)"
      ]
     },
     "execution_count": 78,
     "metadata": {},
     "output_type": "execute_result"
    }
   ],
   "source": [
    "bnb_2 = BernoulliNB( alpha = 1.0, class_prior = [0.1, 0.9])\n",
    "bnb_2.fit(X_train, y_train)"
   ]
  },
  {
   "cell_type": "code",
   "execution_count": 79,
   "metadata": {},
   "outputs": [],
   "source": [
    "y_predicted_2 = bnb_2.predict(X_test)\n",
    "#y_predicted_2"
   ]
  },
  {
   "cell_type": "code",
   "execution_count": 80,
   "metadata": {},
   "outputs": [
    {
     "data": {
      "text/html": [
       "<div>\n",
       "<style scoped>\n",
       "    .dataframe tbody tr th:only-of-type {\n",
       "        vertical-align: middle;\n",
       "    }\n",
       "\n",
       "    .dataframe tbody tr th {\n",
       "        vertical-align: top;\n",
       "    }\n",
       "\n",
       "    .dataframe thead th {\n",
       "        text-align: right;\n",
       "    }\n",
       "</style>\n",
       "<table border=\"1\" class=\"dataframe\">\n",
       "  <thead>\n",
       "    <tr style=\"text-align: right;\">\n",
       "      <th></th>\n",
       "      <th>Predict[0]</th>\n",
       "      <th>Predict[1]</th>\n",
       "    </tr>\n",
       "  </thead>\n",
       "  <tbody>\n",
       "    <tr>\n",
       "      <th>True[0]</th>\n",
       "      <td>80</td>\n",
       "      <td>457</td>\n",
       "    </tr>\n",
       "    <tr>\n",
       "      <th>True[1]</th>\n",
       "      <td>9</td>\n",
       "      <td>115</td>\n",
       "    </tr>\n",
       "  </tbody>\n",
       "</table>\n",
       "</div>"
      ],
      "text/plain": [
       "         Predict[0]  Predict[1]\n",
       "True[0]          80         457\n",
       "True[1]           9         115"
      ]
     },
     "execution_count": 80,
     "metadata": {},
     "output_type": "execute_result"
    }
   ],
   "source": [
    "conf_matrix_2 = pd.DataFrame(confusion_matrix(y_test, y_predicted_2), index =['True[0]', 'True[1]'], \n",
    "                           columns = ['Predict[0]', 'Predict[1]'])\n",
    "conf_matrix_2"
   ]
  },
  {
   "cell_type": "code",
   "execution_count": 81,
   "metadata": {},
   "outputs": [
    {
     "name": "stdout",
     "output_type": "stream",
     "text": [
      "              precision    recall  f1-score   support\n",
      "\n",
      "           0       0.90      0.15      0.26       537\n",
      "           1       0.20      0.93      0.33       124\n",
      "\n",
      "    accuracy                           0.30       661\n",
      "   macro avg       0.55      0.54      0.29       661\n",
      "weighted avg       0.77      0.30      0.27       661\n",
      "\n"
     ]
    }
   ],
   "source": [
    "print(classification_report(y_test, y_predicted_2))\n"
   ]
  },
  {
   "cell_type": "code",
   "execution_count": 82,
   "metadata": {},
   "outputs": [
    {
     "name": "stdout",
     "output_type": "stream",
     "text": [
      "The accuracy score when prior probabilites are [0.1, 0.9] is 29.500756429652043\n"
     ]
    }
   ],
   "source": [
    "print(\"The accuracy score when prior probabilites are [0.1, 0.9] is\", accuracy_score(y_test, y_predicted_2) * 100)"
   ]
  },
  {
   "cell_type": "code",
   "execution_count": 83,
   "metadata": {},
   "outputs": [
    {
     "name": "stdout",
     "output_type": "stream",
     "text": [
      "The precision score when prior probabilites are [0.1, 0.9] is 29.500756429652043\n"
     ]
    }
   ],
   "source": [
    "print(\"The precision score when prior probabilites are [0.1, 0.9] is\", accuracy_score(y_test, y_predicted_2) * 100)"
   ]
  },
  {
   "cell_type": "code",
   "execution_count": 85,
   "metadata": {},
   "outputs": [
    {
     "name": "stdout",
     "output_type": "stream",
     "text": [
      "The f1 score when prior probabilites are [0.1, 0.9] is 33.04597701149425\n"
     ]
    }
   ],
   "source": [
    "print(\"The f1 score when prior probabilites are [0.1, 0.9] is\", f1_score(y_test, y_predicted_2) * 100)"
   ]
  },
  {
   "cell_type": "code",
   "execution_count": 65,
   "metadata": {},
   "outputs": [
    {
     "data": {
      "image/png": "[encoded data removed]",
      "text/plain": [
       "<Figure size 432x288 with 1 Axes>"
      ]
     },
     "metadata": {
      "needs_background": "light"
     },
     "output_type": "display_data"
    }
   ],
   "source": [
    "skplt.metrics.plot_roc(y_test, bnb_2.predict_proba(X_test), plot_micro = False)\n",
    "plt.show()"
   ]
  },
  {
   "cell_type": "code",
   "execution_count": 66,
   "metadata": {},
   "outputs": [
    {
     "data": {
      "image/png": "[encoded data removed]",
      "text/plain": [
       "<Figure size 432x288 with 1 Axes>"
      ]
     },
     "metadata": {
      "needs_background": "light"
     },
     "output_type": "display_data"
    }
   ],
   "source": [
    "skplt.metrics.plot_cumulative_gain(y_test, bnb_2.predict_proba(X_test))\n",
    "plt.show()"
   ]
  },
  {
   "cell_type": "markdown",
   "metadata": {},
   "source": [
    "### Explaination: \n",
    "1. For the first parameter[0.9, 0.1], F1 score is very less(5.7%) in compare to F1 score(33%) of second parameter[0.1, 0.9].\n",
    "2. Accuracy for second parameter is also very low( 29%) whereas accuracy for first parameter is 80%.\n",
    "3. For the first parameter, sensitivity(recall/Total Positive rate) and specificity(selectivity/ Total Negative Rate) are 0.03 and 0.97 respectively whereas for second parameter sensitivity and specificity are 0.92 and 0.85 respectively. So, for the first parameter is a trade-off between senstivity and specificity.\n",
    "4. Error rates for first and second parameters are 19% and 70% respectively.\n",
    "5. In the given dataset, number of 0 > number of 1. For first parameter, TN value(526) is more than TN value(80) of second parameter and that's why first parameter is more accurate.\n",
    "6. The first parameter is more concentrated on the class 0 samples whereas second parameter tends its concentration towards for class 1 samples.\n",
    "7. Overall on the basis of accuracy rate, first parameter[0.9, 0.1] is better than the second parameter[ 0.1, 0.9] with higher accuracy rate and specificity and with lower error rate. \n",
    "\n",
    "\n"
   ]
  },
  {
   "cell_type": "code",
   "execution_count": null,
   "metadata": {},
   "outputs": [],
   "source": []
  }
 ],
 "metadata": {
  "kernelspec": {
   "display_name": "Python 3",
   "language": "python",
   "name": "python3"
  },
  "language_info": {
   "codemirror_mode": {
    "name": "ipython",
    "version": 3
   },
   "file_extension": ".py",
   "mimetype": "text/x-python",
   "name": "python",
   "nbconvert_exporter": "python",
   "pygments_lexer": "ipython3",
   "version": "3.7.6"
  }
 },
 "nbformat": 4,
 "nbformat_minor": 4
}
